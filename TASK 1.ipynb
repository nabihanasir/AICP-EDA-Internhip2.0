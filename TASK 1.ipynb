{
 "cells": [
  {
   "cell_type": "markdown",
   "metadata": {},
   "source": [
    "# AICP Internship Task Week 1"
   ]
  },
  {
   "cell_type": "markdown",
   "metadata": {},
   "source": [
    "<b>Write a NumPy program to create an array of all even integers from 30 to 70.<b>"
   ]
  },
  {
   "cell_type": "code",
   "execution_count": 15,
   "metadata": {},
   "outputs": [],
   "source": [
    "#importing numpy\n",
    "import numpy as np"
   ]
  },
  {
   "cell_type": "code",
   "execution_count": 16,
   "metadata": {},
   "outputs": [
    {
     "data": {
      "text/plain": [
       "array([30, 32, 34, 36, 38, 40, 42, 44, 46, 48, 50, 52, 54, 56, 58, 60, 62,\n",
       "       64, 66, 68], dtype=int64)"
      ]
     },
     "execution_count": 16,
     "metadata": {},
     "output_type": "execute_result"
    }
   ],
   "source": [
    "a=np.arange(30,70,2,dtype='int64')\n",
    "a"
   ]
  },
  {
   "cell_type": "markdown",
   "metadata": {},
   "source": [
    "<b>Write a NumPy program to generate an array of 15 random numbers from a standard normal\n",
    "distribution.<b>"
   ]
  },
  {
   "cell_type": "code",
   "execution_count": 17,
   "metadata": {},
   "outputs": [
    {
     "data": {
      "text/plain": [
       "array([ 0.88807309, -0.28165152, -0.36688271,  0.09286981, -1.20229585,\n",
       "        2.80672516, -1.42145594,  0.78394047,  1.38696204,  0.06821779,\n",
       "        0.90592652,  0.86174238, -1.95947622,  0.88731493,  0.81937125])"
      ]
     },
     "execution_count": 17,
     "metadata": {},
     "output_type": "execute_result"
    }
   ],
   "source": [
    "from numpy import random\n",
    "\n",
    "x=random.normal(loc=0,size=15)\n",
    "x"
   ]
  },
  {
   "cell_type": "markdown",
   "metadata": {},
   "source": [
    "<b>How to compute the cross-product of two matrices in NumPy?\n",
    "<b>"
   ]
  },
  {
   "cell_type": "code",
   "execution_count": 18,
   "metadata": {},
   "outputs": [
    {
     "data": {
      "text/plain": [
       "array([-2, 22])"
      ]
     },
     "execution_count": 18,
     "metadata": {},
     "output_type": "execute_result"
    }
   ],
   "source": [
    "X=np.array([[1,2],[5,6]])\n",
    "Y=np.array([[4,6],[3,8]])\n",
    "crossprod=np.cross(X,Y)\n",
    "crossprod"
   ]
  },
  {
   "cell_type": "markdown",
   "metadata": {},
   "source": [
    "<b>How to compute the determinant of an array using NumPy?<b>"
   ]
  },
  {
   "cell_type": "code",
   "execution_count": 19,
   "metadata": {},
   "outputs": [
    {
     "data": {
      "text/plain": [
       "10.000000000000002"
      ]
     },
     "execution_count": 19,
     "metadata": {},
     "output_type": "execute_result"
    }
   ],
   "source": [
    "X=np.array([[4,2],[3,4]])\n",
    "det=np.linalg.det(X)\n",
    "det"
   ]
  },
  {
   "cell_type": "markdown",
   "metadata": {},
   "source": [
    "<b>How to create a 3x3x3 array with random values using NumPy?<b>\n"
   ]
  },
  {
   "cell_type": "code",
   "execution_count": 24,
   "metadata": {},
   "outputs": [
    {
     "data": {
      "text/plain": [
       "array([[[0.6394714 , 0.47798214, 0.10826845],\n",
       "        [0.04703727, 0.93726588, 0.68790573],\n",
       "        [0.7555901 , 0.08604928, 0.11399684]],\n",
       "\n",
       "       [[0.2110846 , 0.13429768, 0.79550861],\n",
       "        [0.66234788, 0.52937281, 0.34890339],\n",
       "        [0.39555119, 0.52692261, 0.8123175 ]],\n",
       "\n",
       "       [[0.29677246, 0.0424613 , 0.39699825],\n",
       "        [0.14437729, 0.16134866, 0.56416051],\n",
       "        [0.92719162, 0.78752819, 0.37788637]]])"
      ]
     },
     "execution_count": 24,
     "metadata": {},
     "output_type": "execute_result"
    }
   ],
   "source": [
    "from numpy import random\n",
    "x=np.random.random((3,3,3))\n",
    "x"
   ]
  },
  {
   "cell_type": "markdown",
   "metadata": {},
   "source": [
    "<b>How to create a 5x5 array with random values and find the minimum and maximum values using\n",
    "NumPy?<b>"
   ]
  },
  {
   "cell_type": "code",
   "execution_count": 29,
   "metadata": {},
   "outputs": [
    {
     "name": "stdout",
     "output_type": "stream",
     "text": [
      "[[0.73532137 0.76459821 0.71035801 0.39208685 0.85533109]\n",
      " [0.52258749 0.25699535 0.17020579 0.14254029 0.98002808]\n",
      " [0.8722731  0.80132485 0.95035289 0.64953151 0.9620263 ]\n",
      " [0.6477219  0.43384038 0.21404599 0.21633736 0.01111635]\n",
      " [0.94009282 0.70419178 0.83076541 0.5783477  0.59422784]]\n",
      "\n",
      "max=\n",
      "0.9800280798361712\n",
      "\n",
      "min=\n",
      "0.011116354648785576\n"
     ]
    }
   ],
   "source": [
    "a=np.random.random((5,5))\n",
    "print(a)\n",
    "max=a.max()\n",
    "min=a.min()\n",
    "print(\"\\nmax=\")\n",
    "print(max)\n",
    "print(\"\\nmin=\")\n",
    "print(min)"
   ]
  },
  {
   "cell_type": "markdown",
   "metadata": {},
   "source": [
    "<b>How to compute the mean, standard deviation, and variance of a given array along the second axis in\n",
    "NumPy?<b>"
   ]
  },
  {
   "cell_type": "code",
   "execution_count": 35,
   "metadata": {},
   "outputs": [
    {
     "name": "stdout",
     "output_type": "stream",
     "text": [
      "mean=\n",
      "4\n",
      "standard deviation=\n",
      "1\n",
      "variance=\n",
      "2\n"
     ]
    }
   ],
   "source": [
    "x=np.array([[3,4,4],[7,4,6]])\n",
    "mean=x.mean(dtype=\"int64\")\n",
    "print(\"mean=\")\n",
    "print(mean)\n",
    "std=x.std(dtype=\"int64\")\n",
    "print(\"standard deviation=\")\n",
    "print(std)\n",
    "var=x.var(dtype=\"int64\")\n",
    "print(\"variance=\")\n",
    "print(var)"
   ]
  }
 ],
 "metadata": {
  "kernelspec": {
   "display_name": "Python 3",
   "language": "python",
   "name": "python3"
  },
  "language_info": {
   "codemirror_mode": {
    "name": "ipython",
    "version": 3
   },
   "file_extension": ".py",
   "mimetype": "text/x-python",
   "name": "python",
   "nbconvert_exporter": "python",
   "pygments_lexer": "ipython3",
   "version": "3.12.1"
  }
 },
 "nbformat": 4,
 "nbformat_minor": 2
}
